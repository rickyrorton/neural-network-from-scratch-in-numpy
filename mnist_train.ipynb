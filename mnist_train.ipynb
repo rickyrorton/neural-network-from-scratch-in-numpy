{
  "metadata": {
    "kernelspec": {
      "display_name": "Python 3",
      "name": "python3"
    },
    "language_info": {
      "name": "python",
      "version": "3.10.13",
      "mimetype": "text/x-python",
      "codemirror_mode": {
        "name": "ipython",
        "version": 3
      },
      "pygments_lexer": "ipython3",
      "nbconvert_exporter": "python",
      "file_extension": ".py"
    },
    "kaggle": {
      "accelerator": "none",
      "dataSources": [
        {
          "sourceId": 7790793,
          "sourceType": "datasetVersion",
          "datasetId": 4560321
        },
        {
          "sourceId": 7804488,
          "sourceType": "datasetVersion",
          "datasetId": 4570202
        }
      ],
      "dockerImageVersionId": 30664,
      "isInternetEnabled": false,
      "language": "python",
      "sourceType": "notebook",
      "isGpuEnabled": false
    },
    "colab": {
      "provenance": [],
      "include_colab_link": true
    },
    "accelerator": "TPU"
  },
  "nbformat_minor": 0,
  "nbformat": 4,
  "cells": [
    {
      "cell_type": "markdown",
      "metadata": {
        "id": "view-in-github",
        "colab_type": "text"
      },
      "source": [
        "<a href=\"https://colab.research.google.com/github/rickyrorton/neural-network-from-scratch-in-numpy/blob/main/mnist_train.ipynb\" target=\"_parent\"><img src=\"https://colab.research.google.com/assets/colab-badge.svg\" alt=\"Open In Colab\"/></a>"
      ]
    },
    {
      "cell_type": "code",
      "source": [
        "import numpy as np # linear algebra\n",
        "import pandas as pd # data processing, CSV file I/O (e.g. pd.read_csv)\n",
        "from matplotlib import pyplot as plt\n",
        "data = pd.read_csv('drive/MyDrive/Colab Notebooks/mnist/train.csv')"
      ],
      "metadata": {
        "_uuid": "8f2839f25d086af736a60e9eeb907d3b93b6e0e5",
        "_cell_guid": "b1076dfc-b9ad-4769-8c92-a6c4dae69d19",
        "execution": {
          "iopub.status.busy": "2024-03-15T02:57:01.826726Z",
          "iopub.execute_input": "2024-03-15T02:57:01.827032Z",
          "iopub.status.idle": "2024-03-15T02:57:03.314638Z",
          "shell.execute_reply.started": "2024-03-15T02:57:01.827012Z",
          "shell.execute_reply": "2024-03-15T02:57:03.314014Z"
        },
        "trusted": true,
        "colab": {
          "base_uri": "https://localhost:8080/"
        },
        "id": "W_FBbOuyDoYX",
        "outputId": "11b7e162-127d-43d6-b186-dd3068eb1312"
      },
      "execution_count": null,
      "outputs": [
        {
          "output_type": "stream",
          "name": "stdout",
          "text": [
            "Mounted at /content/drive\n",
            "['.config', 'drive', 'sample_data']\n"
          ]
        }
      ]
    },
    {
      "cell_type": "code",
      "source": [
        "#initiate the data as a numpy array and shuffle it\n",
        "data = np.array(data)\n",
        "m, n = data.shape\n",
        "np.random.shuffle(data)\n",
        "#testing dataset of about 1000 examples\n",
        "data_dev = data[0:1000].T\n",
        "Y_dev = data_dev[0]\n",
        "X_dev = data_dev[1:n]\n",
        "X_dev = X_dev / 255\n",
        "#training dataset\n",
        "data_train = data[1000:m].T\n",
        "Y_train = data_train[0]\n",
        "X_train = data_train[1:n]\n",
        "X_train = X_train / 255\n"
      ],
      "metadata": {
        "execution": {
          "iopub.status.busy": "2024-03-15T02:57:03.316173Z",
          "iopub.execute_input": "2024-03-15T02:57:03.316613Z",
          "iopub.status.idle": "2024-03-15T02:57:03.726811Z",
          "shell.execute_reply.started": "2024-03-15T02:57:03.316588Z",
          "shell.execute_reply": "2024-03-15T02:57:03.726097Z"
        },
        "trusted": true,
        "id": "T3Yd0PiADoYb"
      },
      "execution_count": null,
      "outputs": []
    },
    {
      "cell_type": "code",
      "source": [
        "#initialise weights and biases\n",
        "def initial_parameters():\n",
        "    W1 = np.random.rand(10, 784) - 0.5\n",
        "    b1 = np.random.rand(10, 1)  - 0.5\n",
        "    W2 = np.random.rand(10, 10) - 0.5\n",
        "    b2 = np.random.rand(10, 1) - 0.5\n",
        "    return W1, b1, W2, b2\n",
        "\n",
        "#define ReLU and softmax functions\n",
        "def ReLU(Z):\n",
        "    return np.maximum(Z, 0)\n",
        "\n",
        "def softmax(Z):\n",
        "    A = np.exp(Z) / sum(np.exp(Z))\n",
        "    return A\n",
        "\n",
        "def ReLU_derivative(Z):\n",
        "    return Z > 0\n",
        "\n",
        "#define layers for the Neural network\n",
        "def forward_propagation(W1, b1, W2, b2, X):\n",
        "    #X is the input layer\n",
        "\n",
        "    #First hidden layer\n",
        "    Z1 = W1.dot(X) + b1\n",
        "    A1 = ReLU(Z1)\n",
        "    #Output layer\n",
        "    Z2 = W2.dot(A1) + b2\n",
        "    A2 = softmax(Z2)\n",
        "\n",
        "    return Z1, A1, Z2, A2\n",
        "\n",
        "def final(Y):\n",
        "    final_Y = np.zeros((Y.size, Y.max() + 1))\n",
        "    final_Y[np.arange(Y.size), Y] = 1\n",
        "    final_Y = final_Y.T\n",
        "    return final_Y\n",
        "\n",
        "#backward propagation is for finding values to update the weights and biases with\n",
        "def backward_propagation(Z1, A1, Z2, A2, W1, W2, X, Y):\n",
        "    final_Y = final(Y)\n",
        "    dZ2 = A2 - final_Y\n",
        "    dW2 = 1 / m * dZ2.dot(A1.T)\n",
        "    db2 = 1 / m * np.sum(dZ2)\n",
        "    dZ1 = W2.T.dot(dZ2) * ReLU_derivative(Z1)\n",
        "    dW1 = 1 / m * dZ1.dot(X.T)\n",
        "    db1 = 1 / m * np.sum(dZ1)\n",
        "    return dW1, db1, dW2, db2\n",
        "\n",
        "#with the values found from back propagation update the weights and biases\n",
        "def update_parameters(W1, b1, W2, b2, dW1, db1, dW2, db2, alpha):\n",
        "    W1 = W1 - alpha * dW1\n",
        "    b1 = b1 - alpha * db1\n",
        "    W2 = W2 - alpha * dW2\n",
        "    b2 = b2 - alpha * db2\n",
        "    return W1, b1, W2, b2"
      ],
      "metadata": {
        "execution": {
          "iopub.status.busy": "2024-03-15T02:57:03.727885Z",
          "iopub.execute_input": "2024-03-15T02:57:03.728346Z",
          "iopub.status.idle": "2024-03-15T02:57:03.736965Z",
          "shell.execute_reply.started": "2024-03-15T02:57:03.728323Z",
          "shell.execute_reply": "2024-03-15T02:57:03.736299Z"
        },
        "trusted": true,
        "id": "LV_7V7vRDoYd"
      },
      "execution_count": null,
      "outputs": []
    },
    {
      "cell_type": "code",
      "source": [
        "#A2 is the output layer neuron's output values, this function gets the max of them\n",
        "def get_predictions(A2):\n",
        "    return np.argmax(A2, 0)\n",
        "\n",
        "#calculates accuracy by no of correct predictions/total no. of predictions\n",
        "def get_accuracy(predictions, Y):\n",
        "    print(predictions, Y)\n",
        "    return np.sum(predictions == Y) / Y.size\n",
        "\n",
        "#optimize the model to improve accuracy\n",
        "def gradient_descent(X, Y, alpha, iterations):\n",
        "    W1, b1, W2, b2 = initial_parameters()\n",
        "    for i in range(iterations):\n",
        "        Z1, A1, Z2, A2 = forward_propagation(W1, b1, W2, b2, X)\n",
        "        dW1, db1, dW2, db2 = backward_propagation(Z1, A1, Z2, A2, W1, W2, X, Y)\n",
        "        W1, b1, W2, b2 = update_parameters(W1, b1, W2, b2, dW1, db1, dW2, db2, alpha)\n",
        "        if i % 20 == 0:\n",
        "            print(\"Iteration: \", i)\n",
        "            predictions = get_predictions(A2)\n",
        "            print(get_accuracy(predictions, Y))\n",
        "    return W1, b1, W2, b2"
      ],
      "metadata": {
        "execution": {
          "iopub.status.busy": "2024-03-15T02:57:48.433298Z",
          "iopub.execute_input": "2024-03-15T02:57:48.433599Z",
          "iopub.status.idle": "2024-03-15T02:57:48.440345Z",
          "shell.execute_reply.started": "2024-03-15T02:57:48.433578Z",
          "shell.execute_reply": "2024-03-15T02:57:48.439299Z"
        },
        "trusted": true,
        "id": "bxIv_NpLDoYf"
      },
      "execution_count": null,
      "outputs": []
    },
    {
      "cell_type": "code",
      "source": [
        "#train the model\n",
        "W1, b1, W2, b2 = gradient_descent(X_train, Y_train, 0.3, 501)"
      ],
      "metadata": {
        "execution": {
          "iopub.status.busy": "2024-03-15T02:58:27.497030Z",
          "iopub.execute_input": "2024-03-15T02:58:27.497362Z",
          "iopub.status.idle": "2024-03-15T02:58:52.909864Z",
          "shell.execute_reply.started": "2024-03-15T02:58:27.497326Z",
          "shell.execute_reply": "2024-03-15T02:58:52.909035Z"
        },
        "trusted": true,
        "colab": {
          "base_uri": "https://localhost:8080/"
        },
        "id": "A9zx2eiTDoYg",
        "outputId": "f09bbb9f-3c3a-4358-a54a-575a75a8e9d7"
      },
      "execution_count": null,
      "outputs": [
        {
          "output_type": "stream",
          "name": "stdout",
          "text": [
            "Iteration:  0\n",
            "[7 6 7 ... 8 8 8] [9 0 7 ... 9 6 2]\n",
            "0.09334146341463415\n",
            "Iteration:  20\n",
            "[9 0 7 ... 9 0 3] [9 0 7 ... 9 6 2]\n",
            "0.5248780487804878\n",
            "Iteration:  40\n",
            "[9 0 7 ... 9 6 2] [9 0 7 ... 9 6 2]\n",
            "0.6811463414634147\n",
            "Iteration:  60\n",
            "[9 0 7 ... 9 6 2] [9 0 7 ... 9 6 2]\n",
            "0.7125121951219512\n",
            "Iteration:  80\n",
            "[9 0 7 ... 9 6 2] [9 0 7 ... 9 6 2]\n",
            "0.7484878048780488\n",
            "Iteration:  100\n",
            "[9 0 7 ... 9 6 2] [9 0 7 ... 9 6 2]\n",
            "0.7744634146341464\n",
            "Iteration:  120\n",
            "[9 0 7 ... 9 6 2] [9 0 7 ... 9 6 2]\n",
            "0.7970243902439025\n",
            "Iteration:  140\n",
            "[9 0 7 ... 9 6 2] [9 0 7 ... 9 6 2]\n",
            "0.818560975609756\n",
            "Iteration:  160\n",
            "[9 0 7 ... 9 6 2] [9 0 7 ... 9 6 2]\n",
            "0.8350731707317073\n",
            "Iteration:  180\n",
            "[9 0 7 ... 9 6 2] [9 0 7 ... 9 6 2]\n",
            "0.8491951219512195\n",
            "Iteration:  200\n",
            "[9 0 7 ... 9 6 2] [9 0 7 ... 9 6 2]\n",
            "0.8580487804878049\n",
            "Iteration:  220\n",
            "[9 0 7 ... 9 6 2] [9 0 7 ... 9 6 2]\n",
            "0.864390243902439\n",
            "Iteration:  240\n",
            "[9 0 7 ... 9 6 2] [9 0 7 ... 9 6 2]\n",
            "0.8698048780487805\n",
            "Iteration:  260\n",
            "[9 0 7 ... 9 6 2] [9 0 7 ... 9 6 2]\n",
            "0.8729512195121951\n",
            "Iteration:  280\n",
            "[9 0 7 ... 9 6 2] [9 0 7 ... 9 6 2]\n",
            "0.8764634146341463\n",
            "Iteration:  300\n",
            "[9 0 7 ... 9 6 2] [9 0 7 ... 9 6 2]\n",
            "0.8793170731707317\n",
            "Iteration:  320\n",
            "[9 0 7 ... 9 6 2] [9 0 7 ... 9 6 2]\n",
            "0.8814146341463415\n",
            "Iteration:  340\n",
            "[9 0 7 ... 9 6 2] [9 0 7 ... 9 6 2]\n",
            "0.8836585365853659\n",
            "Iteration:  360\n",
            "[9 0 7 ... 9 6 2] [9 0 7 ... 9 6 2]\n",
            "0.885\n",
            "Iteration:  380\n",
            "[9 0 7 ... 9 6 2] [9 0 7 ... 9 6 2]\n",
            "0.8867073170731707\n",
            "Iteration:  400\n",
            "[9 0 7 ... 9 6 2] [9 0 7 ... 9 6 2]\n",
            "0.8881463414634146\n",
            "Iteration:  420\n",
            "[9 0 7 ... 9 6 2] [9 0 7 ... 9 6 2]\n",
            "0.8900487804878049\n",
            "Iteration:  440\n",
            "[9 0 7 ... 9 6 2] [9 0 7 ... 9 6 2]\n",
            "0.8913658536585366\n",
            "Iteration:  460\n",
            "[9 0 7 ... 9 6 2] [9 0 7 ... 9 6 2]\n",
            "0.8928048780487805\n",
            "Iteration:  480\n",
            "[9 0 7 ... 9 6 2] [9 0 7 ... 9 6 2]\n",
            "0.8940487804878049\n",
            "Iteration:  500\n",
            "[9 0 7 ... 9 6 2] [9 0 7 ... 9 6 2]\n",
            "0.8952926829268293\n"
          ]
        }
      ]
    },
    {
      "cell_type": "code",
      "source": [
        "print(W1, b1, W2, b2)"
      ],
      "metadata": {
        "id": "ogKGmuo8Jt1S",
        "colab": {
          "base_uri": "https://localhost:8080/"
        },
        "outputId": "a0d536e5-ca34-4166-fcab-8254c14af7ae"
      },
      "execution_count": null,
      "outputs": [
        {
          "output_type": "stream",
          "name": "stdout",
          "text": [
            "[[-0.23850118  0.05196695 -0.3316101  ... -0.17946066 -0.41520074\n",
            "  -0.11722072]\n",
            " [-0.40744796  0.19352009 -0.19312439 ... -0.05041453 -0.24362582\n",
            "   0.00541694]\n",
            " [ 0.41114275 -0.03299673 -0.25443444 ...  0.31674044 -0.17155287\n",
            "  -0.38028352]\n",
            " ...\n",
            " [ 0.335289    0.09984932  0.24242182 ... -0.07311085 -0.09666567\n",
            "   0.46225332]\n",
            " [-0.10809349 -0.35090186  0.33069776 ... -0.1001741   0.00781021\n",
            "  -0.10211609]\n",
            " [-0.43472039  0.06591974  0.26512534 ...  0.47344702  0.38024126\n",
            "  -0.19970075]] [[0.61843037]\n",
            " [0.50303592]\n",
            " [0.284235  ]\n",
            " [0.91710324]\n",
            " [0.34922094]\n",
            " [0.56781486]\n",
            " [0.26068415]\n",
            " [0.38047989]\n",
            " [0.30745039]\n",
            " [0.27181506]] [[-0.84950794 -0.03119467 -0.05841526  0.8873399  -0.1193982   0.25163363\n",
            "  -0.50111437 -0.41255644  0.32768274 -0.08313623]\n",
            " [ 1.12452785 -0.67128853  0.29793487 -0.66037234 -0.02096869 -0.23702794\n",
            "  -0.27924172  0.01041525 -0.28158088  0.01990574]\n",
            " [ 0.34049065  0.10992009 -0.07821067  0.65959354  0.25522433 -0.01440877\n",
            "  -0.01504445  0.20370654 -0.61463309  0.12531839]\n",
            " [ 0.24229202  0.27605998 -0.13827824  0.02652432 -0.00827495 -0.23613045\n",
            "  -0.29599352 -0.09031447 -0.1237982   0.95482899]\n",
            " [-0.30460114  0.25309747 -0.31751411 -0.11685302  0.41681674 -0.19490697\n",
            "   0.24491735 -0.00770374  0.58318414 -0.26475962]\n",
            " [ 0.10338708 -0.06151754  0.12443    -0.14356755  0.18092858  0.45201818\n",
            "  -0.70673354 -0.36942677  0.76195751  0.37582043]\n",
            " [-0.07024849 -0.44916979 -0.0711189   0.30034247  1.09888104  0.14277876\n",
            "  -0.1107664  -0.23911936  0.11945805 -0.28688479]\n",
            " [ 0.23019769  1.21352056  0.05604616 -0.28799647 -0.31625026 -0.17548844\n",
            "  -0.37369729 -0.25136902 -0.19085134 -0.15986047]\n",
            " [ 0.31041706 -0.17081072 -0.43768769 -0.23968548 -0.36155919  0.30260521\n",
            "   0.12866844  0.40183964  0.46731488  0.22724334]\n",
            " [-0.27989408  0.33071512  0.33809288 -0.11839197 -0.81997781 -0.58171446\n",
            "   0.53617504  0.17900674  0.41781244  0.08032975]] [[ 0.38087021]\n",
            " [-0.41287635]\n",
            " [ 0.33879573]\n",
            " [-0.49945304]\n",
            " [-0.13642164]\n",
            " [-0.21301607]\n",
            " [-0.40701139]\n",
            " [ 0.26241044]\n",
            " [-0.22889124]\n",
            " [-0.26684377]]\n"
          ]
        }
      ]
    },
    {
      "cell_type": "code",
      "source": [
        "#A2 is the output values of the output layer's neurons\n",
        "def make_predictions(X, W1, b1, W2, b2):\n",
        "    _, _, _, A2 = forward_propagation(W1, b1, W2, b2, X)\n",
        "    predictions = get_predictions(A2)\n",
        "    return predictions\n",
        "\n",
        "#make prediction for one single image\n",
        "def test_prediction(index, W1, b1, W2, b2):\n",
        "    current_image = X_train[:, index, None]\n",
        "    prediction = make_predictions(X_train[:, index, None], W1, b1, W2, b2)\n",
        "    label = Y_train[index]\n",
        "    print(\"Prediction: \", prediction)\n",
        "    print(\"Label: \", label)\n",
        "\n",
        "    current_image = current_image.reshape((28, 28)) * 255\n",
        "    plt.gray()\n",
        "    plt.imshow(current_image, interpolation='nearest')\n",
        "    plt.show()"
      ],
      "metadata": {
        "id": "whxjTU5cEO_o"
      },
      "execution_count": null,
      "outputs": []
    },
    {
      "cell_type": "code",
      "source": [
        "dev_predictions = make_predictions(X_dev, W1, b1, W2, b2)\n",
        "get_accuracy(dev_predictions, Y_dev)\n",
        "from sklearn.metrics import confusion_matrix\n",
        "import seaborn as sns\n",
        "import matplotlib.pyplot as plt\n",
        "\n",
        "# Create confusion matrix\n",
        "cm = confusion_matrix(Y_dev, dev_predictions)\n",
        "cm_percentages = cm.astype('float') / cm.sum(axis=1)[:, np.newaxis] * 100 #Calculate values in terms of percentages\n",
        "\n",
        "# Plot the confusion matrix using seaborn\n",
        "plt.figure(figsize=(8, 6))\n",
        "sns.heatmap(cm_percentages, annot=True, fmt=\".2f\", cmap=\"Blues\")\n",
        "plt.xlabel('Predicted')\n",
        "plt.ylabel('Actual')\n",
        "plt.title('Confusion Matrix for Handwritten digits')\n",
        "plt.show()"
      ],
      "metadata": {
        "colab": {
          "base_uri": "https://localhost:8080/",
          "height": 1000
        },
        "id": "vEVmvdjlP9r-",
        "outputId": "c820506f-56d2-41a9-8c57-0742ccc04c4e"
      },
      "execution_count": null,
      "outputs": [
        {
          "output_type": "stream",
          "name": "stdout",
          "text": [
            "[3 6 0 1 8 8 6 7 6 9 5 0 8 1 1 6 1 1 4 2 6 3 2 2 2 6 6 8 6 7 6 4 0 1 8 9 4\n",
            " 6 4 2 2 7 6 7 0 5 0 1 1 2 6 7 3 9 1 1 2 1 6 4 6 2 5 6 9 2 3 2 1 4 1 1 7 4\n",
            " 6 4 4 6 6 9 9 9 0 8 9 5 1 2 6 1 0 0 8 7 1 6 2 9 3 4 6 6 0 5 9 6 1 8 6 4 5\n",
            " 4 0 9 0 9 8 0 4 7 7 5 6 7 9 3 1 0 1 8 0 7 3 3 6 7 1 4 0 8 2 7 6 7 6 8 6 9\n",
            " 1 9 4 0 1 2 5 4 0 9 1 9 4 7 0 6 7 0 3 7 2 7 2 6 8 1 3 4 6 1 3 6 6 3 8 8 2\n",
            " 7 7 1 8 9 6 0 5 2 6 8 1 5 8 1 9 1 1 8 3 0 9 0 9 9 3 2 5 8 4 8 7 1 4 7 9 8\n",
            " 3 7 3 9 4 7 1 2 8 7 4 2 4 3 6 2 5 0 9 5 7 8 5 9 7 5 7 0 2 1 4 2 6 0 1 7 6\n",
            " 2 4 2 5 9 6 7 2 9 7 3 0 3 8 4 8 9 6 8 6 8 5 2 5 2 7 6 8 9 1 2 7 4 3 5 0 3\n",
            " 5 3 7 6 3 1 9 2 6 7 3 1 4 2 7 2 1 9 3 1 0 3 3 4 8 5 1 8 2 2 6 9 5 7 3 1 8\n",
            " 8 4 5 0 0 6 9 1 5 0 7 4 3 8 1 0 7 4 5 6 7 5 0 9 4 1 7 2 3 8 9 8 7 2 6 0 2\n",
            " 7 8 7 0 1 7 7 4 9 8 7 4 3 1 3 0 7 8 5 5 0 8 4 9 5 7 9 8 2 8 4 0 9 9 5 4 8\n",
            " 5 0 6 1 6 6 3 5 5 0 1 6 3 7 8 6 0 5 6 0 0 7 1 0 8 5 2 6 2 3 3 8 1 3 9 1 9\n",
            " 7 2 7 0 1 0 8 2 7 6 9 0 9 1 3 1 3 0 9 5 4 9 1 7 0 7 2 4 7 6 1 9 7 5 9 3 1\n",
            " 1 2 4 9 1 3 6 7 3 8 8 8 6 9 2 6 9 6 5 4 0 1 8 4 1 0 2 7 7 1 9 2 6 0 7 1 7\n",
            " 9 9 2 8 1 7 6 8 6 9 0 1 3 7 1 4 2 3 7 5 0 9 4 2 7 6 1 9 7 3 1 9 8 3 5 2 5\n",
            " 7 9 2 6 1 6 5 4 0 5 4 2 0 9 3 9 4 7 8 4 1 1 3 4 7 8 5 9 3 8 9 0 3 7 1 7 1\n",
            " 1 9 3 2 1 5 1 8 4 4 0 4 2 9 1 6 5 4 0 5 6 8 7 6 0 8 1 6 5 0 8 7 1 6 0 5 1\n",
            " 8 8 3 5 3 1 4 1 4 7 6 0 0 1 6 2 1 4 7 3 4 3 6 1 1 8 7 7 4 7 0 9 3 9 0 5 4\n",
            " 5 0 5 9 4 9 4 6 9 3 2 0 0 8 8 1 0 5 9 4 6 5 8 2 6 4 7 4 2 5 9 4 1 3 8 4 2\n",
            " 0 7 0 9 9 4 4 2 7 6 5 1 5 4 1 2 5 1 5 8 9 5 8 4 8 1 8 8 4 2 7 2 2 7 6 7 9\n",
            " 2 7 7 3 6 4 7 5 5 7 9 6 5 3 5 1 8 6 4 9 1 3 5 2 9 7 1 1 8 6 7 7 2 9 4 9 9\n",
            " 4 4 9 6 1 6 1 7 8 8 7 2 3 0 7 0 9 5 1 7 7 2 1 5 2 6 3 2 3 3 0 7 0 2 2 3 9\n",
            " 1 8 8 4 1 1 7 1 8 6 6 0 1 5 2 8 3 0 6 8 2 8 1 8 1 4 7 6 3 1 9 7 2 5 0 8 5\n",
            " 2 3 7 1 9 1 0 9 3 7 9 0 7 1 5 7 3 1 7 4 0 8 9 5 2 9 9 6 7 0 1 0 9 7 0 5 4\n",
            " 9 9 0 5 6 1 3 8 1 6 2 9 1 1 9 2 7 7 1 5 4 8 2 0 6 8 5 9 5 1 3 3 9 2 9 8 1\n",
            " 9 8 5 1 6 1 5 5 3 7 8 2 8 8 3 2 0 8 8 7 9 5 8 1 8 1 5 2 1 9 4 5 6 1 3 0 5\n",
            " 9 8 4 6 7 3 2 9 3 6 7 7 1 1 9 4 8 0 1 8 0 1 2 3 8 9 4 7 0 5 0 7 6 5 7 7 9\n",
            " 4] [3 2 0 1 8 8 6 7 6 9 1 7 8 1 1 6 1 1 4 2 6 3 2 2 2 6 6 8 6 7 6 4 0 1 8 9 2\n",
            " 5 9 2 2 7 6 7 0 5 0 1 1 2 6 7 3 4 1 1 2 1 6 4 6 3 5 6 4 7 3 2 1 4 1 1 7 4\n",
            " 6 4 4 6 6 9 9 9 0 8 2 5 1 2 3 1 0 0 8 7 1 6 2 9 3 4 6 6 0 5 9 6 1 8 6 4 5\n",
            " 4 0 9 0 9 8 0 4 7 7 6 3 7 9 3 1 0 1 1 0 7 3 3 6 7 1 4 0 8 2 7 6 7 6 8 6 7\n",
            " 1 9 4 0 1 2 5 4 0 7 1 9 4 7 2 6 7 0 3 7 2 7 2 6 8 1 3 4 6 1 2 6 6 3 5 8 2\n",
            " 7 7 1 8 9 6 0 5 2 6 8 1 5 4 1 9 1 1 8 3 0 9 0 9 9 3 3 5 8 9 8 7 7 9 7 9 5\n",
            " 3 7 3 9 4 7 4 2 8 7 4 2 4 8 6 2 5 0 9 5 7 8 5 5 7 3 7 0 3 1 4 2 6 0 1 7 6\n",
            " 2 4 2 5 9 6 7 2 9 7 3 0 3 8 4 8 9 6 8 6 8 3 2 5 2 7 6 8 9 1 2 7 4 3 5 0 3\n",
            " 5 3 7 6 3 1 9 2 6 7 3 1 4 2 7 2 1 9 3 1 0 3 3 4 9 5 1 8 2 2 6 9 5 7 3 1 8\n",
            " 8 4 6 0 0 6 9 1 5 0 7 4 3 8 1 0 5 4 3 6 7 5 0 9 4 1 7 2 3 9 9 8 7 3 6 0 2\n",
            " 7 2 7 0 1 7 7 4 9 8 7 4 3 1 3 0 7 8 5 5 0 8 4 9 5 7 9 8 2 8 4 0 9 9 5 4 8\n",
            " 5 0 6 1 6 6 3 5 5 0 1 6 3 7 8 6 0 5 6 0 0 7 1 0 8 5 2 6 2 3 3 8 1 3 9 1 9\n",
            " 7 2 7 0 1 0 8 2 7 6 9 0 9 3 3 1 3 0 9 5 4 9 1 7 3 7 2 4 7 6 1 9 7 5 9 3 1\n",
            " 1 2 4 9 8 3 6 7 3 3 8 8 6 9 2 6 9 6 5 4 0 1 8 4 1 0 2 7 7 1 9 2 6 0 7 5 7\n",
            " 9 7 2 8 1 7 6 5 6 9 0 1 3 7 1 9 2 3 7 5 0 5 5 2 7 6 1 9 7 3 1 9 8 3 5 2 8\n",
            " 7 9 2 6 1 6 5 4 2 5 4 6 0 9 5 9 4 7 8 7 1 1 3 4 7 8 3 9 5 8 9 0 3 7 1 7 8\n",
            " 1 9 3 1 8 5 1 8 9 4 0 4 2 7 1 6 5 4 0 5 6 8 7 6 0 8 1 6 5 0 8 7 1 6 0 5 1\n",
            " 4 8 3 5 3 1 4 1 4 2 8 0 0 1 6 7 1 4 7 3 4 3 6 1 1 8 9 7 4 9 0 4 3 7 0 5 4\n",
            " 5 0 5 9 4 9 4 6 9 3 2 0 0 8 8 1 0 5 5 4 6 5 8 2 6 4 7 4 2 0 9 4 1 3 8 4 2\n",
            " 0 7 0 9 9 4 4 2 7 6 3 1 9 4 1 2 5 1 3 8 9 5 8 4 8 1 8 5 9 2 7 2 2 7 6 7 9\n",
            " 2 7 7 3 6 4 7 5 5 7 9 6 5 3 5 1 8 6 4 9 1 1 8 2 9 7 1 1 8 6 7 7 2 9 4 9 9\n",
            " 4 4 9 6 1 4 1 7 8 8 7 2 3 0 7 0 9 5 1 7 7 3 1 5 2 6 3 8 3 3 0 9 0 2 2 3 9\n",
            " 1 8 8 4 1 1 7 1 8 6 2 0 1 5 2 8 3 0 6 8 2 8 1 8 1 4 7 6 3 1 5 7 2 5 0 8 3\n",
            " 2 3 7 1 9 1 0 9 3 7 9 0 9 1 8 7 3 1 7 4 0 8 9 5 2 9 9 6 7 0 1 0 9 7 0 3 4\n",
            " 8 9 0 5 6 1 3 8 1 6 2 9 1 1 9 2 7 7 1 5 4 8 2 0 6 8 5 9 5 1 8 3 9 2 9 8 1\n",
            " 9 8 6 1 6 1 5 5 3 7 8 2 8 2 3 3 0 8 8 7 9 5 8 1 8 1 5 6 1 4 4 5 6 1 3 5 5\n",
            " 9 8 4 6 7 3 2 9 8 2 7 7 1 1 3 4 8 0 1 8 0 1 2 3 8 9 4 7 0 5 0 7 6 5 3 7 9\n",
            " 9]\n"
          ]
        },
        {
          "output_type": "display_data",
          "data": {
            "text/plain": [
              "<Figure size 800x600 with 2 Axes>"
            ],
            "image/png": "[encoded data removed]"
          },
          "metadata": {}
        }
      ]
    }
  ]
}